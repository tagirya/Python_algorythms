{
 "cells": [
  {
   "cell_type": "markdown",
   "metadata": {},
   "source": [
    "# PROBLEM DESCRIPTION\n",
    "Given an array of equal-length strings, you'd like to know if it's possible to rearrange the order of the elements in such a way that each consecutive pair of strings differ by exactly one character. Return true if it's possible, and false if not.\n",
    "\n",
    "Note: You're only rearranging the order of the strings, not the order of the letters within the strings!\n",
    "\n",
    "Example\n",
    "\n",
    "    For inputArray = [\"aba\", \"bbb\", \"bab\"], the output should be\n",
    "    stringsRearrangement(inputArray) = false.\n",
    "    \n",
    "    For inputArray = [\"ab\", \"bb\", \"aa\"], the output should be\n",
    "    stringsRearrangement(inputArray) = true.    "
   ]
  },
  {
   "cell_type": "code",
   "execution_count": 5,
   "metadata": {},
   "outputs": [
    {
     "name": "stdout",
     "output_type": "stream",
     "text": [
      "Example #1\n",
      "[[1], [0, 2, 3], [1], [1]]\n",
      "after [0, 1, 2] False\n",
      "after [0, 1, 3] False\n",
      "after [0, 1] False\n",
      "after [1, 0] False\n",
      "after [1, 2] False\n",
      "after [1, 3] False\n",
      "after [2, 1, 0] False\n",
      "after [2, 1, 3] False\n",
      "after [2, 1] False\n",
      "after [3, 1, 0] False\n",
      "after [3, 1, 2] False\n",
      "after [3, 1] False\n",
      "Answer #1 False\n",
      "Example #2\n",
      "[[4], [3], [3, 4, 5], [1, 2, 4, 5], [0, 2, 3, 5], [2, 3, 4]]\n",
      "after [0, 4, 2, 3, 1] False\n",
      "after [0, 4, 2, 3, 5] False\n",
      "after [0, 4, 2, 3] False\n",
      "after [0, 4, 2, 5, 3, 1] True\n",
      "after [0, 4, 2, 5, 3, 1] True\n",
      "after [0, 4, 2, 5, 3, 1] True\n",
      "after [0, 4, 2, 5, 3, 1] True\n",
      "Answer #2 True\n"
     ]
    }
   ],
   "source": [
    "def stringsRearrangement(inputarray):\n",
    "    links = [[] for k in range(len(inputarray))]\n",
    "\n",
    "    for k, item1 in enumerate(inputarray):\n",
    "        for m,item2 in enumerate(inputarray):\n",
    "            if compare_pairs(item1,item2) == True and item1 != item2:\n",
    "                links[k].append(m)\n",
    "    print(links)\n",
    "    \n",
    "    for k in range(0,len(links)):\n",
    "        index = k\n",
    "        output = False\n",
    "        output = recurtion(links,[index], index, output)\n",
    "        if output == True:\n",
    "            return True\n",
    "    return False\n",
    "\n",
    "def recurtion(links, branch, index, output):\n",
    "    array_current = links[index]\n",
    "    len_arrcurr = len(array_current)\n",
    "    for k in range(len_arrcurr):\n",
    "        new_index = array_current[k]\n",
    "        if new_index in branch:\n",
    "            output = False\n",
    "            \n",
    "        else:            \n",
    "            branch.append(new_index)\n",
    "            \n",
    "            if len(branch) == len(links):\n",
    "                output = True\n",
    "                return output\n",
    "            output = recurtion(links, branch, new_index, output)\n",
    "            print(\"after\", branch, output)\n",
    "            if output == True:\n",
    "                return output\n",
    "            else:\n",
    "                branch.pop()\n",
    "                pass\n",
    "            \n",
    "    return False\n",
    "    \n",
    "\n",
    "def compare_pairs(s1,s2):\n",
    "    one_element = False\n",
    "    for item1, item2 in zip (s1,s2):\n",
    "        if item1 != item2:\n",
    "            if one_element == True:\n",
    "                return False\n",
    "            one_element = True\n",
    "    return True\n",
    "\n",
    "print(\"Example #1\")\n",
    "print(\"Answer #1\", stringsRearrangement([\"abc\",\"abx\",\"axx\",\"abc\"]))\n",
    "print(\"Example #2\")\n",
    "print(\"Answer #2\", stringsRearrangement([\"abc\",  \"bef\", \"bcc\",  \"bec\",  \"bbc\",  \"bdc\"]))"
   ]
  },
  {
   "cell_type": "code",
   "execution_count": null,
   "metadata": {},
   "outputs": [],
   "source": []
  }
 ],
 "metadata": {
  "kernelspec": {
   "display_name": "Python 3",
   "language": "python",
   "name": "python3"
  },
  "language_info": {
   "codemirror_mode": {
    "name": "ipython",
    "version": 3
   },
   "file_extension": ".py",
   "mimetype": "text/x-python",
   "name": "python",
   "nbconvert_exporter": "python",
   "pygments_lexer": "ipython3",
   "version": "3.7.5"
  }
 },
 "nbformat": 4,
 "nbformat_minor": 2
}
